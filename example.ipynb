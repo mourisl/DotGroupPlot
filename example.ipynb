{
 "cells": [
  {
   "cell_type": "code",
   "execution_count": 2,
   "id": "1e3523f2-ebd8-4931-b3f9-6acad0e3af79",
   "metadata": {},
   "outputs": [],
   "source": [
    "import pandas as pd\n",
    "import matplotlib.pyplot as plt\n",
    "import matplotlib.patches as patches\n",
    "import matplotlib.transforms as transforms\n",
    "from matplotlib.transforms import Affine2D\n",
    "import math\n",
    "from matplotlib.patheffects import RendererBase\n",
    "import matplotlib.patheffects as PathEffects\n",
    "import seaborn as sns"
   ]
  },
  {
   "cell_type": "code",
   "execution_count": 41,
   "id": "76819905-6569-45d6-b131-209f0b7656bd",
   "metadata": {},
   "outputs": [],
   "source": [
    "def HoneycombPlot(data, group, hue = None, default_color = 'blue', \n",
    "                  n_edge=6, radius=1, ax=None):\n",
    "        \"\"\"\n",
    "        Draw a honeycomb plot \n",
    "        \n",
    "        Args:\n",
    "        -----\n",
    "        data: panda dataframe holding the row data\n",
    "        group: the column name in data that \n",
    "        hue: color of the dot based on the column in the dataframe. Use default color if it is not specified in this dictionary\n",
    "        n_edge: number of edge for each cluster's shape, default 6 is a heagonal shape\n",
    "        radius: dot size\n",
    "        ax: axes objective\n",
    "        \n",
    "        Return:\n",
    "        -----\n",
    "        axes object\n",
    "        \"\"\"\n",
    "        \n",
    "        ax = ax or plt.gca()\n",
    "        \n",
    "        groupby = data.groupby(group)\n",
    "        cluster_num = len(groupby)\n",
    "        \n",
    "        i = 0\n",
    "        for g, subdf in sorted(df.groupby(\"CDR3\"), key=lambda item: len(item[1]), reverse=True):\n",
    "            count = len(subdf)\n",
    "            x = []\n",
    "            y = []\n",
    "            for j in range(count):\n",
    "                x.append(i * radius)\n",
    "                y.append(j * radius)\n",
    "            ax.plot(x, y, marker='o', color=default_color, markersize=radius)\n",
    "            \n",
    "            i += 1\n",
    "        return ax\n",
    "        "
   ]
  },
  {
   "cell_type": "code",
   "execution_count": 16,
   "id": "3330f1a9-b24e-4ca7-9467-64b7e04d7933",
   "metadata": {},
   "outputs": [],
   "source": [
    "df = pd.DataFrame({\"CDR3\":[\"ABC\", \"ABC\", \"ABC\", \"ABC\",\n",
    "                          \"ABC\", \"ABC\", \"ABC\", \"ABC\",\n",
    "                          \"ABC\", \"DEF\", \"DEF\", \"GHI\"],\n",
    "                  \"Condition\":[\"HD\", \"HD\", \"HD\", \"HD\",\n",
    "                              \"D\", \"D\", \"HD\", \"D\",\n",
    "                              \"HD\", \"HD\", \"D\", \"D\"]})"
   ]
  },
  {
   "cell_type": "code",
   "execution_count": 42,
   "id": "9ad85292-2f9e-4a14-84a2-7a2505c7be2a",
   "metadata": {},
   "outputs": [
    {
     "data": {
      "text/plain": [
       "<Axes: >"
      ]
     },
     "execution_count": 42,
     "metadata": {},
     "output_type": "execute_result"
    },
    {
     "data": {
      "image/png": "[encoded data removed]",
      "text/plain": [
       "<Figure size 640x480 with 1 Axes>"
      ]
     },
     "metadata": {},
     "output_type": "display_data"
    }
   ],
   "source": [
    "HoneycombPlot(df, \"CDR3\", radius=2)"
   ]
  },
  {
   "cell_type": "code",
   "execution_count": 22,
   "id": "33653b44-8f2c-4ef3-9760-202ef9eb4eb5",
   "metadata": {},
   "outputs": [
    {
     "name": "stdout",
     "output_type": "stream",
     "text": [
      "ABC\n",
      "  CDR3 Condition\n",
      "0  ABC        HD\n",
      "1  ABC        HD\n",
      "2  ABC        HD\n",
      "3  ABC        HD\n",
      "4  ABC         D\n",
      "5  ABC         D\n",
      "6  ABC        HD\n",
      "7  ABC         D\n",
      "8  ABC        HD\n",
      "DEF\n",
      "   CDR3 Condition\n",
      "9   DEF        HD\n",
      "10  DEF         D\n",
      "GHI\n",
      "   CDR3 Condition\n",
      "11  GHI         D\n"
     ]
    }
   ],
   "source": [
    "for x, subdf in sorted(df.groupby(\"CDR3\"), key=lambda item: len(item[1]), reverse=True):\n",
    "    print(x)\n",
    "    print(subdf)"
   ]
  }
 ],
 "metadata": {
  "kernelspec": {
   "display_name": "Python 3 (ipykernel)",
   "language": "python",
   "name": "python3"
  },
  "language_info": {
   "codemirror_mode": {
    "name": "ipython",
    "version": 3
   },
   "file_extension": ".py",
   "mimetype": "text/x-python",
   "name": "python",
   "nbconvert_exporter": "python",
   "pygments_lexer": "ipython3",
   "version": "3.11.0"
  }
 },
 "nbformat": 4,
 "nbformat_minor": 5
}
