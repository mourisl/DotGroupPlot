{
 "cells": [
  {
   "cell_type": "code",
   "execution_count": 64,
   "id": "1e3523f2-ebd8-4931-b3f9-6acad0e3af79",
   "metadata": {},
   "outputs": [],
   "source": [
    "import pandas as pd\n",
    "import matplotlib.pyplot as plt\n",
    "import matplotlib.patches as patches\n",
    "import matplotlib.transforms as transforms\n",
    "from matplotlib.transforms import Affine2D\n",
    "import numpy as np\n",
    "import math\n",
    "from matplotlib.patheffects import RendererBase\n",
    "import matplotlib.patheffects as PathEffects\n",
    "import seaborn as sns"
   ]
  },
  {
   "cell_type": "code",
   "execution_count": 207,
   "id": "76819905-6569-45d6-b131-209f0b7656bd",
   "metadata": {},
   "outputs": [],
   "source": [
    "def Rotate(v, theta):\n",
    "    c, s = np.cos(theta), np.sin(theta)\n",
    "    return np.array([[c, -s], [s, c]]) @ np.array(v).T\n",
    "\n",
    "def DrawPolygon(x, y, radius, n_edge, facecolor, ax):\n",
    "    \"\"\"\n",
    "    Draw a shape with n_edges centered at x,y, with raidus (center to corner)\n",
    "    n_edge <= 0 means circle\n",
    "    \"\"\"\n",
    "    if (n_edge > 0):\n",
    "        points = []\n",
    "        for j in range(n_edge):\n",
    "            cx = 0\n",
    "            cy = radius\n",
    "            cx, cy = Rotate([cx, cy], (j-0.5) * 2*math.pi/n_edge)\n",
    "            points.append([cx+x, cy+y])\n",
    "        ax.add_patch(patches.Polygon(points, facecolor=color, edgecolor=\"white\"))\n",
    "    else:\n",
    "        ax.add_patch(patches.Circle([x,y], radius=radius, facecolor=facecolor,\n",
    "                                   edgecolor=\"white\"))\n",
    "    return ax\n",
    "\n",
    "# Draw one cluster\n",
    "def DrawCluster(center_x, center_y, data, hue, hue_map, facecolor, n_edge, radius, layout, ax):\n",
    "    count = len(data)\n",
    "    x = []\n",
    "    y = []\n",
    "    \n",
    "    colors = []\n",
    "    if (hue != None):\n",
    "        hue_counts = []\n",
    "        for h, cnt in data[hue].value_counts().items():\n",
    "            c = facecolor\n",
    "            if (h in hue_map):\n",
    "                c = hue_map[h]\n",
    "            for i in range(cnt):\n",
    "                colors.append(c)\n",
    "    else:\n",
    "        colors = [facecolor for i in range(count)]\n",
    "    if (layout == \"lap\"):\n",
    "        lap = 0\n",
    "        lap_full = 0\n",
    "        for j in range(count):\n",
    "            tmpx = 0\n",
    "            tmpy = lap * 0.2\n",
    "            tmpx, tmpy = Rotate([tmpx, tmpy], j * 2*math.pi/n_edge)\n",
    "            x.append(tmpx + center_x)\n",
    "            y.append(tmpy + center_y)\n",
    "            \n",
    "            if (j == lap_full):\n",
    "                lap += 1\n",
    "                lap_full += n_edge\n",
    "    elif (layout == \"layer\"):\n",
    "        return ax\n",
    "    elif (layout == \"spiral\"):\n",
    "        return ax\n",
    "    print(x, y)\n",
    "    for i, (xi, yi) in enumerate(zip(x, y)):\n",
    "        DrawPolygon(xi, yi, 0.1, 0, colors[i], ax)\n",
    "    return ax\n",
    "\n",
    "def HoneycombPlot(data, group, hue = None, facecolor = 'blue', \n",
    "                  layout=\"lap\", n_edge=6, radius=1, palette=None, ax=None):\n",
    "        \"\"\"\n",
    "        Draw the honeycomb plot \n",
    "        \n",
    "        Args:\n",
    "        -----\n",
    "        data: panda dataframe holding the row data\n",
    "        group: the column name in data that \n",
    "        hue: color of the dot based on the column in the dataframe. Use default color if it is not specified in this dictionary\n",
    "        facecolor: color of the dot if hue is not specified.\n",
    "        n_edge: number of edge for each cluster's shape, default 6 is a like heagonal shape\n",
    "        radius: dot size\n",
    "        layout: how to draw the dot within one cluster. \n",
    "                \"spiral\": a shape of spiral. \n",
    "                \"lap\": a dot in the center, and other dots around it as laps.\n",
    "                \"layer\": dots a placed layer by layer \n",
    "        ax: axes objective\n",
    "        \n",
    "        Return:\n",
    "        -----\n",
    "        axes object\n",
    "        \"\"\"\n",
    "        \n",
    "        ax = ax or plt.gca()\n",
    "        \n",
    "        groupby = data.groupby(group)\n",
    "        cluster_num = len(groupby)\n",
    "        \n",
    "        hue_map = {}\n",
    "        if (hue != None):\n",
    "            hlist = list(data[hue].unique())\n",
    "            mypalette = sns.color_palette(\"bright\", len(hlist))\n",
    "            for i, h in enumerate(hlist):\n",
    "                hue_map[h] = mypalette[i]\n",
    "                \n",
    "        i = 0\n",
    "        #if (hue != None):\n",
    "        #    hue_categories = \n",
    "        for g, subdf in sorted(df.groupby(\"CDR3\"), key=lambda item: len(item[1]), reverse=True):\n",
    "            ax = DrawCluster(i, 0, subdf, hue, hue_map, facecolor, n_edge, radius, layout, ax)\n",
    "            i += 1\n",
    "        return ax\n",
    "        "
   ]
  },
  {
   "cell_type": "code",
   "execution_count": 16,
   "id": "3330f1a9-b24e-4ca7-9467-64b7e04d7933",
   "metadata": {},
   "outputs": [],
   "source": [
    "df = pd.DataFrame({\"CDR3\":[\"ABC\", \"ABC\", \"ABC\", \"ABC\",\n",
    "                          \"ABC\", \"ABC\", \"ABC\", \"ABC\",\n",
    "                          \"ABC\", \"DEF\", \"DEF\", \"GHI\"],\n",
    "                  \"Condition\":[\"HD\", \"HD\", \"HD\", \"HD\",\n",
    "                              \"D\", \"D\", \"HD\", \"D\",\n",
    "                              \"HD\", \"HD\", \"D\", \"D\"]})"
   ]
  },
  {
   "cell_type": "code",
   "execution_count": 208,
   "id": "9ad85292-2f9e-4a14-84a2-7a2505c7be2a",
   "metadata": {},
   "outputs": [
    {
     "name": "stdout",
     "output_type": "stream",
     "text": [
      "[0.0, -0.17320508075688776, 0.17320508075688767, 4.898587196589413e-17, -0.3464101615137757, 0.3464101615137755, 1.9594348786357652e-16, -0.5196152422706636, 0.5196152422706627] [0.0, -0.09999999999999998, -0.10000000000000009, 0.2, -0.1999999999999997, -0.19999999999999996, 0.4, -0.29999999999999943, -0.300000000000001]\n",
      "[1.0, 0.8267949192431122] [0.0, -0.09999999999999998]\n",
      "[2.0] [0.0]\n"
     ]
    },
    {
     "data": {
      "text/plain": [
       "[(-1.0, 3.0), (-1.0, 3.0)]"
      ]
     },
     "execution_count": 208,
     "metadata": {},
     "output_type": "execute_result"
    },
    {
     "data": {
      "image/png": "[encoded data removed]",
      "text/plain": [
       "<Figure size 640x480 with 1 Axes>"
      ]
     },
     "metadata": {},
     "output_type": "display_data"
    }
   ],
   "source": [
    "ax=HoneycombPlot(df, \"CDR3\", hue=\"Condition\", n_edge=3, radius=10)\n",
    "ax.set(xlim=(-1,3), ylim=(-1,3))"
   ]
  },
  {
   "cell_type": "code",
   "execution_count": 173,
   "id": "27bc5249-44dc-4d02-b3bc-04818232b6d3",
   "metadata": {},
   "outputs": [
    {
     "data": {
      "text/plain": [
       "['HD', 'D']"
      ]
     },
     "execution_count": 173,
     "metadata": {},
     "output_type": "execute_result"
    }
   ],
   "source": [
    "list(df[\"Condition\"].unique())"
   ]
  },
  {
   "cell_type": "code",
   "execution_count": 170,
   "id": "33653b44-8f2c-4ef3-9760-202ef9eb4eb5",
   "metadata": {},
   "outputs": [
    {
     "name": "stdout",
     "output_type": "stream",
     "text": [
      "ABC\n",
      "  CDR3 Condition\n",
      "0  ABC        HD\n",
      "1  ABC        HD\n",
      "2  ABC        HD\n",
      "3  ABC        HD\n",
      "4  ABC         D\n",
      "5  ABC         D\n",
      "6  ABC        HD\n",
      "7  ABC         D\n",
      "8  ABC        HD\n",
      "DEF\n",
      "   CDR3 Condition\n",
      "9   DEF        HD\n",
      "10  DEF         D\n",
      "GHI\n",
      "   CDR3 Condition\n",
      "11  GHI         D\n"
     ]
    }
   ],
   "source": [
    "for x, subdf in sorted(df.groupby(\"CDR3\"), key=lambda item: len(item[1]), reverse=True):\n",
    "    print(x)\n",
    "    print(subdf)"
   ]
  },
  {
   "cell_type": "code",
   "execution_count": null,
   "id": "23141761-8b89-49b4-92f4-f82c148a701b",
   "metadata": {},
   "outputs": [],
   "source": []
  }
 ],
 "metadata": {
  "kernelspec": {
   "display_name": "Python 3 (ipykernel)",
   "language": "python",
   "name": "python3"
  },
  "language_info": {
   "codemirror_mode": {
    "name": "ipython",
    "version": 3
   },
   "file_extension": ".py",
   "mimetype": "text/x-python",
   "name": "python",
   "nbconvert_exporter": "python",
   "pygments_lexer": "ipython3",
   "version": "3.11.0"
  }
 },
 "nbformat": 4,
 "nbformat_minor": 5
}
